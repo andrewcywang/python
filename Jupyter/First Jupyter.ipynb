{
 "cells": [
  {
   "cell_type": "code",
   "execution_count": 4,
   "metadata": {},
   "outputs": [],
   "source": [
    "from __future__ import print_function\n",
    "import torch as t"
   ]
  },
  {
   "cell_type": "code",
   "execution_count": 6,
   "metadata": {},
   "outputs": [
    {
     "data": {
      "text/plain": [
       "tensor([[0.0000, 0.0000, 0.0000],\n",
       "        [0.0000, 0.0000, 0.0000],\n",
       "        [0.0000, 0.0000, 0.0000],\n",
       "        [0.0000, 0.0000, 0.0000],\n",
       "        [0.0000, 0.0000, 0.0000]])"
      ]
     },
     "execution_count": 6,
     "metadata": {},
     "output_type": "execute_result"
    }
   ],
   "source": [
    "x = t.Tensor(5,3)\n",
    "x"
   ]
  },
  {
   "cell_type": "code",
   "execution_count": 11,
   "metadata": {},
   "outputs": [
    {
     "data": {
      "text/plain": [
       "tensor([[0.7055, 0.6304, 0.9375],\n",
       "        [0.3093, 0.7635, 0.8346],\n",
       "        [0.6048, 0.0478, 0.5970],\n",
       "        [0.6452, 0.0393, 0.1586],\n",
       "        [0.4479, 0.3319, 0.0496]])"
      ]
     },
     "execution_count": 11,
     "metadata": {},
     "output_type": "execute_result"
    }
   ],
   "source": [
    "x = t.rand(5,3)\n",
    "x"
   ]
  },
  {
   "cell_type": "code",
   "execution_count": 18,
   "metadata": {},
   "outputs": [
    {
     "name": "stdout",
     "output_type": "stream",
     "text": [
      "torch.Size([5, 3])\n"
     ]
    },
    {
     "data": {
      "text/plain": [
       "(5, 3)"
      ]
     },
     "execution_count": 18,
     "metadata": {},
     "output_type": "execute_result"
    }
   ],
   "source": [
    "print(x.size())\n",
    "x.size()[0], x.size(1) #是要印出 torch.Size([5,3]) 裡面的5 and 3"
   ]
  },
  {
   "cell_type": "code",
   "execution_count": 24,
   "metadata": {},
   "outputs": [
    {
     "name": "stdout",
     "output_type": "stream",
     "text": [
      "tensor([[0.7055, 0.6304, 0.9375],\n",
      "        [0.3093, 0.7635, 0.8346],\n",
      "        [0.6048, 0.0478, 0.5970],\n",
      "        [0.6452, 0.0393, 0.1586],\n",
      "        [0.4479, 0.3319, 0.0496]])\n",
      "tensor([[0.1115, 0.7979, 0.7767],\n",
      "        [0.4703, 0.4456, 0.0047],\n",
      "        [0.5207, 0.2321, 0.7734],\n",
      "        [0.5805, 0.4496, 0.8762],\n",
      "        [0.3789, 0.9098, 0.5477]])\n",
      "tensor([[0.8171, 1.4283, 1.7143],\n",
      "        [0.7796, 1.2092, 0.8392],\n",
      "        [1.1255, 0.2799, 1.3704],\n",
      "        [1.2257, 0.4889, 1.0348],\n",
      "        [0.8268, 1.2417, 0.5973]])\n"
     ]
    }
   ],
   "source": [
    "y = t.rand(5,3)\n",
    "x + y\n",
    "print(x)\n",
    "print(y)\n",
    "print(x + y)"
   ]
  },
  {
   "cell_type": "code",
   "execution_count": 27,
   "metadata": {},
   "outputs": [
    {
     "data": {
      "text/plain": [
       "tensor([[0.8171, 1.4283, 1.7143],\n",
       "        [0.7796, 1.2092, 0.8392],\n",
       "        [1.1255, 0.2799, 1.3704],\n",
       "        [1.2257, 0.4889, 1.0348],\n",
       "        [0.8268, 1.2417, 0.5973]])"
      ]
     },
     "execution_count": 27,
     "metadata": {},
     "output_type": "execute_result"
    }
   ],
   "source": [
    "t.add(x, y)"
   ]
  },
  {
   "cell_type": "code",
   "execution_count": 32,
   "metadata": {},
   "outputs": [
    {
     "data": {
      "text/plain": [
       "tensor([[0.8171, 1.4283, 1.7143],\n",
       "        [0.7796, 1.2092, 0.8392],\n",
       "        [1.1255, 0.2799, 1.3704],\n",
       "        [1.2257, 0.4889, 1.0348],\n",
       "        [0.8268, 1.2417, 0.5973]])"
      ]
     },
     "execution_count": 32,
     "metadata": {},
     "output_type": "execute_result"
    }
   ],
   "source": [
    "result = t.Tensor(5,3)\n",
    "t.add(x, y, out=result)\n",
    "result"
   ]
  }
 ],
 "metadata": {
  "kernelspec": {
   "display_name": "Python 3",
   "language": "python",
   "name": "python3"
  },
  "language_info": {
   "codemirror_mode": {
    "name": "ipython",
    "version": 3
   },
   "file_extension": ".py",
   "mimetype": "text/x-python",
   "name": "python",
   "nbconvert_exporter": "python",
   "pygments_lexer": "ipython3",
   "version": "3.6.5"
  }
 },
 "nbformat": 4,
 "nbformat_minor": 2
}
